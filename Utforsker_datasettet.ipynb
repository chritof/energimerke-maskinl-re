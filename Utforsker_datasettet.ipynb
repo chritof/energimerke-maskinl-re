{
 "cells": [
  {
   "cell_type": "markdown",
   "id": "52def44b-0ea2-4ddd-8870-eaf33ec90c5b",
   "metadata": {},
   "source": [
    "# Utforsker datasettet"
   ]
  },
  {
   "cell_type": "code",
   "execution_count": 93,
   "id": "3003f28d-8643-49c9-8efc-8695575a4cc4",
   "metadata": {},
   "outputs": [],
   "source": [
    "import pandas as pd"
   ]
  },
  {
   "cell_type": "code",
   "execution_count": 94,
   "id": "7367ffd9-8f20-462d-a5a1-81e8eea96381",
   "metadata": {},
   "outputs": [
    {
     "name": "stderr",
     "output_type": "stream",
     "text": [
      "/var/folders/dy/cyxs1mpd3sz95gqcmyhgtt7h0000gn/T/ipykernel_5685/2671161084.py:1: DtypeWarning: Columns (1,2,3,4,5,6,11,20) have mixed types. Specify dtype option on import or set low_memory=False.\n",
      "  energimerke_df = pd.read_csv(\"energimerke_rådata.csv\", encoding=\"utf-8\")\n"
     ]
    }
   ],
   "source": [
    "energimerke_df = pd.read_csv(\"energimerke_rådata.csv\", encoding=\"utf-8\")"
   ]
  },
  {
   "cell_type": "code",
   "execution_count": 95,
   "id": "8bbdc515-69a1-49ae-b974-73ef0dbd2585",
   "metadata": {},
   "outputs": [
    {
     "data": {
      "text/html": [
       "<div>\n",
       "<style scoped>\n",
       "    .dataframe tbody tr th:only-of-type {\n",
       "        vertical-align: middle;\n",
       "    }\n",
       "\n",
       "    .dataframe tbody tr th {\n",
       "        vertical-align: top;\n",
       "    }\n",
       "\n",
       "    .dataframe thead th {\n",
       "        text-align: right;\n",
       "    }\n",
       "</style>\n",
       "<table border=\"1\" class=\"dataframe\">\n",
       "  <thead>\n",
       "    <tr style=\"text-align: right;\">\n",
       "      <th></th>\n",
       "      <th>knr</th>\n",
       "      <th>gnr</th>\n",
       "      <th>bnr</th>\n",
       "      <th>snr</th>\n",
       "      <th>fnr</th>\n",
       "      <th>andelsnummer</th>\n",
       "      <th>bygningsnummer</th>\n",
       "      <th>gateadresse</th>\n",
       "      <th>postnummer</th>\n",
       "      <th>poststed</th>\n",
       "      <th>...</th>\n",
       "      <th>oppvarmingskarakter</th>\n",
       "      <th>utstedelsesdato</th>\n",
       "      <th>typeregistrering</th>\n",
       "      <th>attestnummer</th>\n",
       "      <th>beregnetlevertenergitotaltkwhm2</th>\n",
       "      <th>beregnetfossilandel</th>\n",
       "      <th>materialvalg</th>\n",
       "      <th>harenergivurdering</th>\n",
       "      <th>energivurderingdato</th>\n",
       "      <th>kildear</th>\n",
       "    </tr>\n",
       "  </thead>\n",
       "  <tbody>\n",
       "    <tr>\n",
       "      <th>0</th>\n",
       "      <td>4601.0</td>\n",
       "      <td>114</td>\n",
       "      <td>226</td>\n",
       "      <td>1</td>\n",
       "      <td>NaN</td>\n",
       "      <td>NaN</td>\n",
       "      <td>23636719</td>\n",
       "      <td>Skagevegen 73 A</td>\n",
       "      <td>5258.0</td>\n",
       "      <td>BLOMSTERDALEN</td>\n",
       "      <td>...</td>\n",
       "      <td>Yellow</td>\n",
       "      <td>2020-12-31T20:36:04.0000000</td>\n",
       "      <td>Simple</td>\n",
       "      <td>A2020-1211914</td>\n",
       "      <td>134.95</td>\n",
       "      <td>NaN</td>\n",
       "      <td>Tre</td>\n",
       "      <td>False</td>\n",
       "      <td>NaN</td>\n",
       "      <td>2020</td>\n",
       "    </tr>\n",
       "    <tr>\n",
       "      <th>1</th>\n",
       "      <td>301.0</td>\n",
       "      <td>224</td>\n",
       "      <td>68</td>\n",
       "      <td>NaN</td>\n",
       "      <td>NaN</td>\n",
       "      <td>NaN</td>\n",
       "      <td>NaN</td>\n",
       "      <td>Hans Nielsen Hauges gate 12</td>\n",
       "      <td>481.0</td>\n",
       "      <td>0481</td>\n",
       "      <td>...</td>\n",
       "      <td>Green</td>\n",
       "      <td>2020-12-31T16:33:21.0000000</td>\n",
       "      <td>Simple</td>\n",
       "      <td>A2020-1211913</td>\n",
       "      <td>403.62</td>\n",
       "      <td>NaN</td>\n",
       "      <td>Mur/tegl</td>\n",
       "      <td>False</td>\n",
       "      <td>NaN</td>\n",
       "      <td>2020</td>\n",
       "    </tr>\n",
       "  </tbody>\n",
       "</table>\n",
       "<p>2 rows × 25 columns</p>\n",
       "</div>"
      ],
      "text/plain": [
       "      knr  gnr  bnr  snr  fnr andelsnummer bygningsnummer  \\\n",
       "0  4601.0  114  226    1  NaN          NaN       23636719   \n",
       "1   301.0  224   68  NaN  NaN          NaN            NaN   \n",
       "\n",
       "                   gateadresse  postnummer       poststed  ...  \\\n",
       "0              Skagevegen 73 A      5258.0  BLOMSTERDALEN  ...   \n",
       "1  Hans Nielsen Hauges gate 12       481.0           0481  ...   \n",
       "\n",
       "  oppvarmingskarakter              utstedelsesdato typeregistrering  \\\n",
       "0              Yellow  2020-12-31T20:36:04.0000000           Simple   \n",
       "1               Green  2020-12-31T16:33:21.0000000           Simple   \n",
       "\n",
       "    attestnummer beregnetlevertenergitotaltkwhm2 beregnetfossilandel  \\\n",
       "0  A2020-1211914                          134.95                 NaN   \n",
       "1  A2020-1211913                          403.62                 NaN   \n",
       "\n",
       "  materialvalg harenergivurdering energivurderingdato  kildear  \n",
       "0          Tre              False                 NaN     2020  \n",
       "1     Mur/tegl              False                 NaN     2020  \n",
       "\n",
       "[2 rows x 25 columns]"
      ]
     },
     "execution_count": 95,
     "metadata": {},
     "output_type": "execute_result"
    }
   ],
   "source": [
    "energimerke_df.head(2)"
   ]
  },
  {
   "cell_type": "code",
   "execution_count": 96,
   "id": "fc2696d8-d62b-4e9c-a5f2-6cde795a1a14",
   "metadata": {},
   "outputs": [],
   "source": [
    "from ydata_profiling import ProfileReport\n",
    "#ProfileReport(energimerke_df, minimal=True)"
   ]
  },
  {
   "cell_type": "markdown",
   "id": "962694b5-85a4-4a89-b15f-74c084eb8d31",
   "metadata": {},
   "source": [
    "# Endrer på features"
   ]
  },
  {
   "cell_type": "markdown",
   "id": "ee22d433-1a4d-4fe5-ac03-078505b8b66d",
   "metadata": {},
   "source": [
    "Ut i fra vår forskning på energimerke kom vi fram til at de mest relevante features var:\n",
    "                                                            - bygningskategori\n",
    "                                                            - byggear\n",
    "                                                            - postnummer\n",
    "                                                            - beregnetlevertenergitotaltkwhm2\n",
    "                                                            - beregnetfossilandel\n",
    "                                                            - materialvalg\n",
    "                                                            - energikarakter"
   ]
  },
  {
   "cell_type": "code",
   "execution_count": 97,
   "id": "6e21f1dd-1cf3-4449-9c02-e81e145f8a0f",
   "metadata": {},
   "outputs": [],
   "source": [
    "relevante_kolonner = [\n",
    "    \"bygningskategori\",\n",
    "    \"byggear\",\n",
    "    \"postnummer\",\n",
    "    \"beregnetlevertenergitotaltkwhm2\",\n",
    "    \"beregnetfossilandel\",\n",
    "    \"materialvalg\",\n",
    "    \"energikarakter\" \n",
    "]\n",
    "\n",
    "energimerke_df = energimerke_df[relevante_kolonner].copy()"
   ]
  },
  {
   "cell_type": "code",
   "execution_count": 98,
   "id": "b44b0430-5b06-4d74-9cef-a9e0c90df34d",
   "metadata": {},
   "outputs": [
    {
     "data": {
      "text/html": [
       "<div>\n",
       "<style scoped>\n",
       "    .dataframe tbody tr th:only-of-type {\n",
       "        vertical-align: middle;\n",
       "    }\n",
       "\n",
       "    .dataframe tbody tr th {\n",
       "        vertical-align: top;\n",
       "    }\n",
       "\n",
       "    .dataframe thead th {\n",
       "        text-align: right;\n",
       "    }\n",
       "</style>\n",
       "<table border=\"1\" class=\"dataframe\">\n",
       "  <thead>\n",
       "    <tr style=\"text-align: right;\">\n",
       "      <th></th>\n",
       "      <th>bygningskategori</th>\n",
       "      <th>byggear</th>\n",
       "      <th>postnummer</th>\n",
       "      <th>beregnetlevertenergitotaltkwhm2</th>\n",
       "      <th>beregnetfossilandel</th>\n",
       "      <th>materialvalg</th>\n",
       "      <th>energikarakter</th>\n",
       "    </tr>\n",
       "  </thead>\n",
       "  <tbody>\n",
       "    <tr>\n",
       "      <th>0</th>\n",
       "      <td>Småhus</td>\n",
       "      <td>2007</td>\n",
       "      <td>5258.0</td>\n",
       "      <td>134.95</td>\n",
       "      <td>NaN</td>\n",
       "      <td>Tre</td>\n",
       "      <td>C</td>\n",
       "    </tr>\n",
       "    <tr>\n",
       "      <th>1</th>\n",
       "      <td>Boligblokker</td>\n",
       "      <td>1936</td>\n",
       "      <td>481.0</td>\n",
       "      <td>403.62</td>\n",
       "      <td>NaN</td>\n",
       "      <td>Mur/tegl</td>\n",
       "      <td>G</td>\n",
       "    </tr>\n",
       "    <tr>\n",
       "      <th>2</th>\n",
       "      <td>Boligblokker</td>\n",
       "      <td>1989</td>\n",
       "      <td>1188.0</td>\n",
       "      <td>160.38</td>\n",
       "      <td>NaN</td>\n",
       "      <td>Betong</td>\n",
       "      <td>D</td>\n",
       "    </tr>\n",
       "  </tbody>\n",
       "</table>\n",
       "</div>"
      ],
      "text/plain": [
       "  bygningskategori  byggear  postnummer  beregnetlevertenergitotaltkwhm2  \\\n",
       "0           Småhus     2007      5258.0                           134.95   \n",
       "1     Boligblokker     1936       481.0                           403.62   \n",
       "2     Boligblokker     1989      1188.0                           160.38   \n",
       "\n",
       "  beregnetfossilandel materialvalg energikarakter  \n",
       "0                 NaN          Tre              C  \n",
       "1                 NaN     Mur/tegl              G  \n",
       "2                 NaN       Betong              D  "
      ]
     },
     "execution_count": 98,
     "metadata": {},
     "output_type": "execute_result"
    }
   ],
   "source": [
    "energimerke_df.head(3)"
   ]
  },
  {
   "cell_type": "code",
   "execution_count": 99,
   "id": "022fdf38-d4cb-4bad-8cd7-e8002d70caaa",
   "metadata": {},
   "outputs": [
    {
     "data": {
      "text/plain": [
       "array(['Småhus', 'Boligblokker', 'Kulturbygg', 'Kontorbygg', 'Sykehjem',\n",
       "       'Barnehager', 'Hoteller', 'Forretningsbygg', 'Idrettsbygg',\n",
       "       'Lett industri, verksteder', 'Skolebygg',\n",
       "       'Universitets- og høgskolebygg', 'Sykehus'], dtype=object)"
      ]
     },
     "execution_count": 99,
     "metadata": {},
     "output_type": "execute_result"
    }
   ],
   "source": [
    "energimerke_df[\"bygningskategori\"].unique()"
   ]
  },
  {
   "cell_type": "markdown",
   "id": "8bd860bc-1aa2-44a5-9725-0a88c039cc9e",
   "metadata": {},
   "source": [
    "I våres problemstilling er vi kun interessert i å finne ut energimerke på privatpersoners byggninger, som småhus og boligblokker, derfor må de andre verdiene vekk."
   ]
  },
  {
   "cell_type": "code",
   "execution_count": 100,
   "id": "84fcf89f-8f7b-4c19-90ae-fa1f36d214f2",
   "metadata": {},
   "outputs": [],
   "source": [
    "energimerke_df = energimerke_df[\n",
    "    energimerke_df[\"bygningskategori\"].isin([\"Småhus\", \"Boligblokker\"])\n",
    "]"
   ]
  },
  {
   "cell_type": "code",
   "execution_count": 101,
   "id": "8a65739b-ac0b-4823-ab96-9ab45f813f9b",
   "metadata": {},
   "outputs": [
    {
     "data": {
      "text/plain": [
       "array(['Småhus', 'Boligblokker'], dtype=object)"
      ]
     },
     "execution_count": 101,
     "metadata": {},
     "output_type": "execute_result"
    }
   ],
   "source": [
    "energimerke_df[\"bygningskategori\"].unique()"
   ]
  },
  {
   "cell_type": "markdown",
   "id": "d662fdd6-4d02-4bd8-93b2-ece269aad8af",
   "metadata": {},
   "source": [
    "Vi har nå at postnummer er et desimaltall, men dette stemmer ikke. Postnummer skal være et heltall."
   ]
  },
  {
   "cell_type": "code",
   "execution_count": 102,
   "id": "d136da6e-f7f8-4d4d-afc5-9b488e858ffd",
   "metadata": {},
   "outputs": [
    {
     "name": "stdout",
     "output_type": "stream",
     "text": [
      "<class 'pandas.core.frame.DataFrame'>\n",
      "Index: 640743 entries, 0 to 661471\n",
      "Data columns (total 7 columns):\n",
      " #   Column                           Non-Null Count   Dtype  \n",
      "---  ------                           --------------   -----  \n",
      " 0   bygningskategori                 640743 non-null  object \n",
      " 1   byggear                          640743 non-null  int64  \n",
      " 2   postnummer                       638005 non-null  float64\n",
      " 3   beregnetlevertenergitotaltkwhm2  640743 non-null  float64\n",
      " 4   beregnetfossilandel              277815 non-null  object \n",
      " 5   materialvalg                     541596 non-null  object \n",
      " 6   energikarakter                   640743 non-null  object \n",
      "dtypes: float64(2), int64(1), object(4)\n",
      "memory usage: 39.1+ MB\n"
     ]
    }
   ],
   "source": [
    "energimerke_df.info()"
   ]
  },
  {
   "cell_type": "code",
   "execution_count": 103,
   "id": "d71bd57a-a722-4a04-b743-92196f97b3a9",
   "metadata": {},
   "outputs": [],
   "source": [
    "energimerke_df = energimerke_df.dropna(subset=[\"postnummer\"]).copy()\n",
    "energimerke_df[\"postnummer\"] = energimerke_df[\"postnummer\"].astype(int)"
   ]
  },
  {
   "cell_type": "markdown",
   "id": "786542f5-d288-40df-b00b-fce1f23790de",
   "metadata": {},
   "source": [
    "alle rader som manglet postummer er blitt fjernet og resten har blitt omgjort til heltall"
   ]
  },
  {
   "cell_type": "code",
   "execution_count": 104,
   "id": "b1202226-0855-404c-8edb-cbbb0472fa38",
   "metadata": {},
   "outputs": [
    {
     "name": "stdout",
     "output_type": "stream",
     "text": [
      "<class 'pandas.core.frame.DataFrame'>\n",
      "Index: 638005 entries, 0 to 661471\n",
      "Data columns (total 7 columns):\n",
      " #   Column                           Non-Null Count   Dtype  \n",
      "---  ------                           --------------   -----  \n",
      " 0   bygningskategori                 638005 non-null  object \n",
      " 1   byggear                          638005 non-null  int64  \n",
      " 2   postnummer                       638005 non-null  int64  \n",
      " 3   beregnetlevertenergitotaltkwhm2  638005 non-null  float64\n",
      " 4   beregnetfossilandel              275547 non-null  object \n",
      " 5   materialvalg                     538874 non-null  object \n",
      " 6   energikarakter                   638005 non-null  object \n",
      "dtypes: float64(1), int64(2), object(4)\n",
      "memory usage: 38.9+ MB\n"
     ]
    }
   ],
   "source": [
    "energimerke_df.info()"
   ]
  },
  {
   "cell_type": "markdown",
   "id": "437bc6ad-15ea-43ae-b97f-2c7c37b275f1",
   "metadata": {},
   "source": [
    "neste ste"
   ]
  },
  {
   "cell_type": "code",
   "execution_count": 105,
   "id": "7cde0c13-5925-4c63-84ea-f94d6ee5b9b9",
   "metadata": {},
   "outputs": [
    {
     "data": {
      "text/plain": [
       "array([nan, '0,61', '0,80', '0,65', '0,00', '0,85', '0,62', '0,13',\n",
       "       '1,00', '0,59', '0,63', '0,60', '0,52', '0,66', '0,75', '0,67',\n",
       "       '0,72', '0,81', '0,54', '0,36', '0,84', '0,64', '0,58', '0,41',\n",
       "       '0,69', '0,86', '0,78', '0,51', '0,28', '0,83', '0,40', '0,82',\n",
       "       '0,79', '0,76', '0,39', '0,35', '0,68', '0,55', '0,26', '0,11',\n",
       "       '0,89', '0,73', '0,57', '0,53', '0,01', '0,42', '0,16', '0,44',\n",
       "       '0,77', '0,23', '0,87', '0,70', '0,27', '0,20', '0,74', '0,18',\n",
       "       '0,45', '0,25', '0,34', '0,71', '0,96', '0,56', '0,95', '0,29',\n",
       "       '0,88', '0,47', '0,30', '0,24', '0,32', '0,31', '0,46', '0,91',\n",
       "       '0,90', '0,94', '0,49', '0,48', '0,37', '0,43', '0,12', '0,92',\n",
       "       '0,22', '0,33', '0,21', '0,17', '0,38', '0,93', '0,50', '0,08',\n",
       "       '0,14', '0,10', '0,03', '0,07', '0,15', '0,09', '0,19', '0,97',\n",
       "       '0,04', '0,98', '0,02', '0,99', '0,05', '0,06'], dtype=object)"
      ]
     },
     "execution_count": 105,
     "metadata": {},
     "output_type": "execute_result"
    }
   ],
   "source": [
    "energimerke_df[\"beregnetfossilandel\"].unique()"
   ]
  },
  {
   "cell_type": "code",
   "execution_count": 106,
   "id": "c869de96-7d5c-4515-81fd-00a4e61d1583",
   "metadata": {},
   "outputs": [],
   "source": [
    "col = \"beregnetfossilandel\"\n",
    "\n",
    "energimerke_df[col] = (\n",
    "    energimerke_df[col]\n",
    "      .astype(str)\n",
    "      .str.strip()\n",
    "      .str.replace(r\"[^0-9,.\\-]\", \"\", regex=True)  \n",
    "      .str.replace(\",\", \".\", regex=False)          \n",
    "      .replace({\"\": pd.NA, \"nan\": pd.NA, \"None\": pd.NA})\n",
    ")\n",
    "\n",
    "energimerke_df[col] = pd.to_numeric(energimerke_df[col], errors=\"coerce\")"
   ]
  },
  {
   "cell_type": "code",
   "execution_count": 107,
   "id": "5fdf88c7-6bd0-4d26-b260-83655a7b37b0",
   "metadata": {},
   "outputs": [
    {
     "data": {
      "text/plain": [
       "array([ nan, 0.61, 0.8 , 0.65, 0.  , 0.85, 0.62, 0.13, 1.  , 0.59, 0.63,\n",
       "       0.6 , 0.52, 0.66, 0.75, 0.67, 0.72, 0.81, 0.54, 0.36, 0.84, 0.64,\n",
       "       0.58, 0.41, 0.69, 0.86, 0.78, 0.51, 0.28, 0.83, 0.4 , 0.82, 0.79,\n",
       "       0.76, 0.39, 0.35, 0.68, 0.55, 0.26, 0.11, 0.89, 0.73, 0.57, 0.53,\n",
       "       0.01, 0.42, 0.16, 0.44, 0.77, 0.23, 0.87, 0.7 , 0.27, 0.2 , 0.74,\n",
       "       0.18, 0.45, 0.25, 0.34, 0.71, 0.96, 0.56, 0.95, 0.29, 0.88, 0.47,\n",
       "       0.3 , 0.24, 0.32, 0.31, 0.46, 0.91, 0.9 , 0.94, 0.49, 0.48, 0.37,\n",
       "       0.43, 0.12, 0.92, 0.22, 0.33, 0.21, 0.17, 0.38, 0.93, 0.5 , 0.08,\n",
       "       0.14, 0.1 , 0.03, 0.07, 0.15, 0.09, 0.19, 0.97, 0.04, 0.98, 0.02,\n",
       "       0.99, 0.05, 0.06])"
      ]
     },
     "execution_count": 107,
     "metadata": {},
     "output_type": "execute_result"
    }
   ],
   "source": [
    "energimerke_df[\"beregnetfossilandel\"].unique()"
   ]
  },
  {
   "cell_type": "code",
   "execution_count": 108,
   "id": "6502796b-d9b2-43a5-8437-3f0935e328c9",
   "metadata": {},
   "outputs": [
    {
     "data": {
      "text/html": [
       "<div>\n",
       "<style scoped>\n",
       "    .dataframe tbody tr th:only-of-type {\n",
       "        vertical-align: middle;\n",
       "    }\n",
       "\n",
       "    .dataframe tbody tr th {\n",
       "        vertical-align: top;\n",
       "    }\n",
       "\n",
       "    .dataframe thead th {\n",
       "        text-align: right;\n",
       "    }\n",
       "</style>\n",
       "<table border=\"1\" class=\"dataframe\">\n",
       "  <thead>\n",
       "    <tr style=\"text-align: right;\">\n",
       "      <th></th>\n",
       "      <th>bygningskategori</th>\n",
       "      <th>byggear</th>\n",
       "      <th>postnummer</th>\n",
       "      <th>beregnetlevertenergitotaltkwhm2</th>\n",
       "      <th>beregnetfossilandel</th>\n",
       "      <th>materialvalg</th>\n",
       "      <th>energikarakter</th>\n",
       "    </tr>\n",
       "  </thead>\n",
       "  <tbody>\n",
       "    <tr>\n",
       "      <th>0</th>\n",
       "      <td>Småhus</td>\n",
       "      <td>2007</td>\n",
       "      <td>5258</td>\n",
       "      <td>134.95</td>\n",
       "      <td>NaN</td>\n",
       "      <td>Tre</td>\n",
       "      <td>C</td>\n",
       "    </tr>\n",
       "    <tr>\n",
       "      <th>1</th>\n",
       "      <td>Boligblokker</td>\n",
       "      <td>1936</td>\n",
       "      <td>481</td>\n",
       "      <td>403.62</td>\n",
       "      <td>NaN</td>\n",
       "      <td>Mur/tegl</td>\n",
       "      <td>G</td>\n",
       "    </tr>\n",
       "    <tr>\n",
       "      <th>2</th>\n",
       "      <td>Boligblokker</td>\n",
       "      <td>1989</td>\n",
       "      <td>1188</td>\n",
       "      <td>160.38</td>\n",
       "      <td>NaN</td>\n",
       "      <td>Betong</td>\n",
       "      <td>D</td>\n",
       "    </tr>\n",
       "  </tbody>\n",
       "</table>\n",
       "</div>"
      ],
      "text/plain": [
       "  bygningskategori  byggear  postnummer  beregnetlevertenergitotaltkwhm2  \\\n",
       "0           Småhus     2007        5258                           134.95   \n",
       "1     Boligblokker     1936         481                           403.62   \n",
       "2     Boligblokker     1989        1188                           160.38   \n",
       "\n",
       "   beregnetfossilandel materialvalg energikarakter  \n",
       "0                  NaN          Tre              C  \n",
       "1                  NaN     Mur/tegl              G  \n",
       "2                  NaN       Betong              D  "
      ]
     },
     "execution_count": 108,
     "metadata": {},
     "output_type": "execute_result"
    }
   ],
   "source": [
    "energimerke_df.head(3)"
   ]
  },
  {
   "cell_type": "markdown",
   "id": "33f983ef-135a-4f7b-a5bc-d56f8e9c7671",
   "metadata": {},
   "source": [
    "Det neste steget er å undersøke featuren beregnetfossilandel. Basert på tidligere analyser ser det ut til at andelen beregnet fossil energi har en betydelig innvirkning på hvilken energikarakter en bolig får.\n",
    "Ettersom rundt 56 % av verdiene mangler, representerer dette et kritisk datatap som må håndteres.\n",
    "Det finnes flere mulige tilnærminger for å håndtere manglende verdier, men vi har valgt å erstatte de manglende verdiene med medianen av de eksisterende. Dette reduserer påvirkningen av ekstreme verdier og gir en mer robust representasjon av fordelingen i datasettet."
   ]
  },
  {
   "cell_type": "code",
   "execution_count": 109,
   "id": "5a58149c-cfa9-4134-9ab1-7020e2b57be4",
   "metadata": {},
   "outputs": [
    {
     "data": {
      "text/plain": [
       "np.int64(362458)"
      ]
     },
     "execution_count": 109,
     "metadata": {},
     "output_type": "execute_result"
    }
   ],
   "source": [
    "energimerke_df[\"beregnetfossilandel\"].isna().sum()"
   ]
  },
  {
   "cell_type": "code",
   "execution_count": 110,
   "id": "62e88724-9ebb-4f27-b665-32020e59ea39",
   "metadata": {},
   "outputs": [
    {
     "name": "stdout",
     "output_type": "stream",
     "text": [
      "Andel NaN: 56.81%\n"
     ]
    }
   ],
   "source": [
    "andel_nan = energimerke_df[\"beregnetfossilandel\"].isna().mean() * 100\n",
    "print(f\"Andel NaN: {andel_nan:.2f}%\")"
   ]
  },
  {
   "cell_type": "code",
   "execution_count": 111,
   "id": "a654b193-2fc4-4073-bce3-7b15e21c149a",
   "metadata": {},
   "outputs": [
    {
     "name": "stdout",
     "output_type": "stream",
     "text": [
      "bygningskategori\n",
      "Boligblokker    54.974181\n",
      "Småhus          58.326136\n",
      "Name: beregnetfossilandel, dtype: float64\n"
     ]
    }
   ],
   "source": [
    "print(energimerke_df.groupby(\"bygningskategori\")[\"beregnetfossilandel\"].apply(lambda x: x.isna().mean() * 100))"
   ]
  },
  {
   "cell_type": "code",
   "execution_count": 112,
   "id": "655ab018-06c5-4822-bb77-1779d5aa1c7f",
   "metadata": {},
   "outputs": [
    {
     "data": {
      "text/plain": [
       "beregnetfossilandel\n",
       "NaN     362458\n",
       "1.00     83002\n",
       "0.80     54178\n",
       "0.00     27790\n",
       "0.61     12728\n",
       "         ...  \n",
       "0.07         9\n",
       "0.05         9\n",
       "0.02         8\n",
       "0.04         6\n",
       "0.03         5\n",
       "Name: count, Length: 102, dtype: int64"
      ]
     },
     "execution_count": 112,
     "metadata": {},
     "output_type": "execute_result"
    }
   ],
   "source": [
    "energimerke_df[\"beregnetfossilandel\"].value_counts(dropna=False)"
   ]
  },
  {
   "cell_type": "code",
   "execution_count": 113,
   "id": "c69a2159-7522-4306-a3f9-20f83c422672",
   "metadata": {},
   "outputs": [
    {
     "data": {
      "text/plain": [
       "np.int64(27790)"
      ]
     },
     "execution_count": 113,
     "metadata": {},
     "output_type": "execute_result"
    }
   ],
   "source": [
    "(energimerke_df[\"beregnetfossilandel\"] == 0.00).sum()"
   ]
  },
  {
   "cell_type": "code",
   "execution_count": 114,
   "id": "d63896ce-c5b4-41ad-aa75-cc59890df63a",
   "metadata": {},
   "outputs": [],
   "source": [
    "energimerke_df[\"beregnetfossilandel\"] = (\n",
    "    energimerke_df.groupby(\"bygningskategori\", group_keys=False)[\"beregnetfossilandel\"]\n",
    "    .apply(lambda x: x.fillna(x.median()))\n",
    ")"
   ]
  },
  {
   "cell_type": "code",
   "execution_count": 115,
   "id": "4ff99517-3c2b-45e1-8850-4f43a68ea702",
   "metadata": {},
   "outputs": [
    {
     "name": "stdout",
     "output_type": "stream",
     "text": [
      "Andel NaN: 0.00%\n"
     ]
    }
   ],
   "source": [
    "andel_nan = energimerke_df[\"beregnetfossilandel\"].isna().mean() * 100\n",
    "print(f\"Andel NaN: {andel_nan:.2f}%\")"
   ]
  },
  {
   "cell_type": "markdown",
   "id": "1b883b18-ea1a-4d75-ba91-6d38fa6f8b54",
   "metadata": {},
   "source": [
    "energimerke_df.head(2)"
   ]
  },
  {
   "cell_type": "code",
   "execution_count": 116,
   "id": "a9fb8644-c14b-4074-b805-6d416145f196",
   "metadata": {},
   "outputs": [
    {
     "name": "stdout",
     "output_type": "stream",
     "text": [
      "<class 'pandas.core.frame.DataFrame'>\n",
      "Index: 638005 entries, 0 to 661471\n",
      "Data columns (total 7 columns):\n",
      " #   Column                           Non-Null Count   Dtype  \n",
      "---  ------                           --------------   -----  \n",
      " 0   bygningskategori                 638005 non-null  object \n",
      " 1   byggear                          638005 non-null  int64  \n",
      " 2   postnummer                       638005 non-null  int64  \n",
      " 3   beregnetlevertenergitotaltkwhm2  638005 non-null  float64\n",
      " 4   beregnetfossilandel              638005 non-null  float64\n",
      " 5   materialvalg                     538874 non-null  object \n",
      " 6   energikarakter                   638005 non-null  object \n",
      "dtypes: float64(2), int64(2), object(3)\n",
      "memory usage: 38.9+ MB\n"
     ]
    }
   ],
   "source": [
    "energimerke_df.info()"
   ]
  },
  {
   "cell_type": "code",
   "execution_count": 117,
   "id": "752a9801-1357-4165-97bb-e6896c8a5ba3",
   "metadata": {},
   "outputs": [
    {
     "data": {
      "text/plain": [
       "materialvalg\n",
       "Tre             357655\n",
       "Betong          136365\n",
       "NaN              99131\n",
       "Mur/tegl         23982\n",
       "MurTeglstein     20225\n",
       "Stal               337\n",
       "Stål               310\n",
       "Name: count, dtype: int64"
      ]
     },
     "execution_count": 117,
     "metadata": {},
     "output_type": "execute_result"
    }
   ],
   "source": [
    "energimerke_df[\"materialvalg\"].value_counts(dropna=False)"
   ]
  },
  {
   "cell_type": "markdown",
   "id": "44a304a4-9963-467c-acf8-230a561c1933",
   "metadata": {},
   "source": [
    "vi slår sammen Mur/tegl og MurTeglstein, og vi slår sammen stal og stål:"
   ]
  },
  {
   "cell_type": "code",
   "execution_count": 118,
   "id": "303882a2-007c-4a16-8f55-56ca84b5a647",
   "metadata": {},
   "outputs": [],
   "source": [
    "energimerke_df[\"materialvalg\"] = energimerke_df[\"materialvalg\"].replace({\n",
    "    \"Mur/tegl\": \"Murteglstein\",\n",
    "    \"MurTeglstein\": \"Murteglstein\",\n",
    "    \"Stal\": \"Stål\"\n",
    "})"
   ]
  },
  {
   "cell_type": "code",
   "execution_count": 119,
   "id": "c0b00a4e-0bb9-4aa0-9dcd-29c80237a531",
   "metadata": {},
   "outputs": [
    {
     "data": {
      "text/plain": [
       "materialvalg\n",
       "Tre             357655\n",
       "Betong          136365\n",
       "NaN              99131\n",
       "Murteglstein     44207\n",
       "Stål               647\n",
       "Name: count, dtype: int64"
      ]
     },
     "execution_count": 119,
     "metadata": {},
     "output_type": "execute_result"
    }
   ],
   "source": [
    "energimerke_df[\"materialvalg\"].value_counts(dropna=False)"
   ]
  },
  {
   "cell_type": "markdown",
   "id": "53d62825-8bd9-428b-a301-8d29c6c9148b",
   "metadata": {},
   "source": [
    "# feature encoding"
   ]
  },
  {
   "cell_type": "markdown",
   "id": "fbc22719-aaa7-4a59-821f-ac38d367c6ae",
   "metadata": {},
   "source": [
    "datasettet har mange features som har verider av typen object. Vi vil at flest mulig verdier er av typen int64/ heltall, dette gjør det lettere for oss når vi skal begynne å bruke forskjellige modeller. løsningen er feature encoding, vi deler opp kolonnene. "
   ]
  },
  {
   "cell_type": "markdown",
   "id": "0e178d60-403b-4393-a109-7d8921ff6847",
   "metadata": {},
   "source": [
    "bygningskategori må deles opp, men siden vi bare har to forskjellige mulige løsninger for bygningskategori, kan vi sette småhus til å være lik 0 og boligblokk til å være lik småhus."
   ]
  },
  {
   "cell_type": "code",
   "execution_count": 120,
   "id": "d947a13a-0df5-46d3-840b-1bd1a5158e7e",
   "metadata": {},
   "outputs": [],
   "source": [
    "kategori_map = {\n",
    "    \"Småhus\": 0,\n",
    "    \"Boligblokker\": 1\n",
    "}\n",
    "\n",
    "energimerke_df[\"bygningskategori\"] = energimerke_df[\"bygningskategori\"].replace(kategori_map)"
   ]
  },
  {
   "cell_type": "markdown",
   "id": "de73ee96-4f64-48d4-a244-f53f1504a5ca",
   "metadata": {},
   "source": [
    "vi må endre materialvalg til flere kolonner (one-hot-encoding). Vi deler materialvalg til mat_betong, mat_tre, osv. huset med den gitte matrialtypet setter 1 under rett materialtype og 0 under resten"
   ]
  },
  {
   "cell_type": "code",
   "execution_count": 121,
   "id": "6a1f110c-5366-4f42-add2-d7e598706a81",
   "metadata": {},
   "outputs": [],
   "source": [
    "energimerke_df[\"materialvalg\"] = energimerke_df[\"materialvalg\"].replace({\n",
    "    \"Mur/tegl\": \"Murteglstein\",\n",
    "    \"MurTeglstein\": \"Murteglstein\",\n",
    "    \"Stal\": \"Stål\"\n",
    "})\n",
    "\n",
    "energimerke_df[\"materialvalg\"] = energimerke_df[\"materialvalg\"].fillna(\"Ukjent\")\n",
    "\n",
    "mat_dummies = pd.get_dummies(\n",
    "    energimerke_df[\"materialvalg\"],\n",
    "    prefix=\"mat\",\n",
    "    dtype=\"int8\"\n",
    ")\n",
    "\n",
    "energimerke_df = pd.concat([energimerke_df.drop(columns=[\"materialvalg\"]),\n",
    "                            mat_dummies], axis=1)"
   ]
  },
  {
   "cell_type": "code",
   "execution_count": 122,
   "id": "db288b8a-7282-4a4b-b245-4a2b8127c1e1",
   "metadata": {},
   "outputs": [
    {
     "data": {
      "text/html": [
       "<div>\n",
       "<style scoped>\n",
       "    .dataframe tbody tr th:only-of-type {\n",
       "        vertical-align: middle;\n",
       "    }\n",
       "\n",
       "    .dataframe tbody tr th {\n",
       "        vertical-align: top;\n",
       "    }\n",
       "\n",
       "    .dataframe thead th {\n",
       "        text-align: right;\n",
       "    }\n",
       "</style>\n",
       "<table border=\"1\" class=\"dataframe\">\n",
       "  <thead>\n",
       "    <tr style=\"text-align: right;\">\n",
       "      <th></th>\n",
       "      <th>bygningskategori</th>\n",
       "      <th>byggear</th>\n",
       "      <th>postnummer</th>\n",
       "      <th>beregnetlevertenergitotaltkwhm2</th>\n",
       "      <th>beregnetfossilandel</th>\n",
       "      <th>energikarakter</th>\n",
       "      <th>mat_Betong</th>\n",
       "      <th>mat_Murteglstein</th>\n",
       "      <th>mat_Stål</th>\n",
       "      <th>mat_Tre</th>\n",
       "      <th>mat_Ukjent</th>\n",
       "    </tr>\n",
       "  </thead>\n",
       "  <tbody>\n",
       "    <tr>\n",
       "      <th>0</th>\n",
       "      <td>0</td>\n",
       "      <td>2007</td>\n",
       "      <td>5258</td>\n",
       "      <td>134.95</td>\n",
       "      <td>0.8</td>\n",
       "      <td>C</td>\n",
       "      <td>0</td>\n",
       "      <td>0</td>\n",
       "      <td>0</td>\n",
       "      <td>1</td>\n",
       "      <td>0</td>\n",
       "    </tr>\n",
       "    <tr>\n",
       "      <th>1</th>\n",
       "      <td>1</td>\n",
       "      <td>1936</td>\n",
       "      <td>481</td>\n",
       "      <td>403.62</td>\n",
       "      <td>0.8</td>\n",
       "      <td>G</td>\n",
       "      <td>0</td>\n",
       "      <td>1</td>\n",
       "      <td>0</td>\n",
       "      <td>0</td>\n",
       "      <td>0</td>\n",
       "    </tr>\n",
       "    <tr>\n",
       "      <th>2</th>\n",
       "      <td>1</td>\n",
       "      <td>1989</td>\n",
       "      <td>1188</td>\n",
       "      <td>160.38</td>\n",
       "      <td>0.8</td>\n",
       "      <td>D</td>\n",
       "      <td>1</td>\n",
       "      <td>0</td>\n",
       "      <td>0</td>\n",
       "      <td>0</td>\n",
       "      <td>0</td>\n",
       "    </tr>\n",
       "    <tr>\n",
       "      <th>3</th>\n",
       "      <td>1</td>\n",
       "      <td>1940</td>\n",
       "      <td>467</td>\n",
       "      <td>336.95</td>\n",
       "      <td>0.8</td>\n",
       "      <td>G</td>\n",
       "      <td>1</td>\n",
       "      <td>0</td>\n",
       "      <td>0</td>\n",
       "      <td>0</td>\n",
       "      <td>0</td>\n",
       "    </tr>\n",
       "    <tr>\n",
       "      <th>4</th>\n",
       "      <td>1</td>\n",
       "      <td>1960</td>\n",
       "      <td>665</td>\n",
       "      <td>395.42</td>\n",
       "      <td>0.8</td>\n",
       "      <td>G</td>\n",
       "      <td>1</td>\n",
       "      <td>0</td>\n",
       "      <td>0</td>\n",
       "      <td>0</td>\n",
       "      <td>0</td>\n",
       "    </tr>\n",
       "  </tbody>\n",
       "</table>\n",
       "</div>"
      ],
      "text/plain": [
       "  bygningskategori  byggear  postnummer  beregnetlevertenergitotaltkwhm2  \\\n",
       "0                0     2007        5258                           134.95   \n",
       "1                1     1936         481                           403.62   \n",
       "2                1     1989        1188                           160.38   \n",
       "3                1     1940         467                           336.95   \n",
       "4                1     1960         665                           395.42   \n",
       "\n",
       "   beregnetfossilandel energikarakter  mat_Betong  mat_Murteglstein  mat_Stål  \\\n",
       "0                  0.8              C           0                 0         0   \n",
       "1                  0.8              G           0                 1         0   \n",
       "2                  0.8              D           1                 0         0   \n",
       "3                  0.8              G           1                 0         0   \n",
       "4                  0.8              G           1                 0         0   \n",
       "\n",
       "   mat_Tre  mat_Ukjent  \n",
       "0        1           0  \n",
       "1        0           0  \n",
       "2        0           0  \n",
       "3        0           0  \n",
       "4        0           0  "
      ]
     },
     "execution_count": 122,
     "metadata": {},
     "output_type": "execute_result"
    }
   ],
   "source": [
    "energimerke_df.head(5)"
   ]
  },
  {
   "cell_type": "code",
   "execution_count": 123,
   "id": "38f8d6ab-30f2-4f52-b413-2b5872cecbed",
   "metadata": {},
   "outputs": [],
   "source": [
    "energimerke_df.to_csv(\"energimerke_renset1.csv\", index=False, encoding=\"utf-8\")"
   ]
  },
  {
   "cell_type": "code",
   "execution_count": 124,
   "id": "14aeb245-e2e4-4526-afa3-cc1f3982a66b",
   "metadata": {},
   "outputs": [
    {
     "name": "stdout",
     "output_type": "stream",
     "text": [
      "<class 'pandas.core.frame.DataFrame'>\n",
      "Index: 638005 entries, 0 to 661471\n",
      "Data columns (total 11 columns):\n",
      " #   Column                           Non-Null Count   Dtype  \n",
      "---  ------                           --------------   -----  \n",
      " 0   bygningskategori                 638005 non-null  object \n",
      " 1   byggear                          638005 non-null  int64  \n",
      " 2   postnummer                       638005 non-null  int64  \n",
      " 3   beregnetlevertenergitotaltkwhm2  638005 non-null  float64\n",
      " 4   beregnetfossilandel              638005 non-null  float64\n",
      " 5   energikarakter                   638005 non-null  object \n",
      " 6   mat_Betong                       638005 non-null  int8   \n",
      " 7   mat_Murteglstein                 638005 non-null  int8   \n",
      " 8   mat_Stål                         638005 non-null  int8   \n",
      " 9   mat_Tre                          638005 non-null  int8   \n",
      " 10  mat_Ukjent                       638005 non-null  int8   \n",
      "dtypes: float64(2), int64(2), int8(5), object(2)\n",
      "memory usage: 37.1+ MB\n"
     ]
    }
   ],
   "source": [
    "energimerke_df.info()"
   ]
  },
  {
   "cell_type": "markdown",
   "id": "8220ffbd-2633-40a9-91b0-41668c283956",
   "metadata": {},
   "source": [
    "bygningskategori er av typen objekt, det skal være et heltall:"
   ]
  },
  {
   "cell_type": "code",
   "execution_count": 125,
   "id": "03eba2d4-c9f8-4f95-8f27-fcb87f1dab2e",
   "metadata": {},
   "outputs": [],
   "source": [
    "energimerke_df[\"bygningskategori\"] = energimerke_df[\"bygningskategori\"].astype(int)"
   ]
  },
  {
   "cell_type": "code",
   "execution_count": 126,
   "id": "cfc245c1-69ce-458d-8553-5e6c019457c7",
   "metadata": {},
   "outputs": [
    {
     "name": "stdout",
     "output_type": "stream",
     "text": [
      "<class 'pandas.core.frame.DataFrame'>\n",
      "Index: 638005 entries, 0 to 661471\n",
      "Data columns (total 11 columns):\n",
      " #   Column                           Non-Null Count   Dtype  \n",
      "---  ------                           --------------   -----  \n",
      " 0   bygningskategori                 638005 non-null  int64  \n",
      " 1   byggear                          638005 non-null  int64  \n",
      " 2   postnummer                       638005 non-null  int64  \n",
      " 3   beregnetlevertenergitotaltkwhm2  638005 non-null  float64\n",
      " 4   beregnetfossilandel              638005 non-null  float64\n",
      " 5   energikarakter                   638005 non-null  object \n",
      " 6   mat_Betong                       638005 non-null  int8   \n",
      " 7   mat_Murteglstein                 638005 non-null  int8   \n",
      " 8   mat_Stål                         638005 non-null  int8   \n",
      " 9   mat_Tre                          638005 non-null  int8   \n",
      " 10  mat_Ukjent                       638005 non-null  int8   \n",
      "dtypes: float64(2), int64(3), int8(5), object(1)\n",
      "memory usage: 37.1+ MB\n"
     ]
    }
   ],
   "source": [
    "energimerke_df.info()"
   ]
  },
  {
   "cell_type": "code",
   "execution_count": 127,
   "id": "8f69748e-c237-4167-a185-17c64342f46b",
   "metadata": {},
   "outputs": [],
   "source": [
    "energimerke_df.to_csv(\"energimerke_renset2.csv\", index=False, encoding=\"utf-8\")"
   ]
  },
  {
   "cell_type": "code",
   "execution_count": null,
   "id": "4268a4a3-165d-4e9a-9e88-5730a4aa7bdc",
   "metadata": {},
   "outputs": [],
   "source": []
  }
 ],
 "metadata": {
  "kernelspec": {
   "display_name": "Python [conda env:base] *",
   "language": "python",
   "name": "conda-base-py"
  },
  "language_info": {
   "codemirror_mode": {
    "name": "ipython",
    "version": 3
   },
   "file_extension": ".py",
   "mimetype": "text/x-python",
   "name": "python",
   "nbconvert_exporter": "python",
   "pygments_lexer": "ipython3",
   "version": "3.13.5"
  }
 },
 "nbformat": 4,
 "nbformat_minor": 5
}
